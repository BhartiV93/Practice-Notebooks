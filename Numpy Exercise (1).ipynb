{
 "cells": [
  {
   "cell_type": "markdown",
   "id": "7fd88a3a",
   "metadata": {},
   "source": [
    "# Numpy Exercise...Good Luck"
   ]
  },
  {
   "cell_type": "markdown",
   "id": "dc784f45",
   "metadata": {},
   "source": [
    "import numpy as np"
   ]
  },
  {
   "cell_type": "code",
   "execution_count": 2,
   "id": "31247fc3",
   "metadata": {},
   "outputs": [],
   "source": []
  },
  {
   "cell_type": "markdown",
   "id": "fa94866a",
   "metadata": {},
   "source": [
    "Create an array of 5 zeros"
   ]
  },
  {
   "cell_type": "code",
   "execution_count": null,
   "id": "fd7b6544",
   "metadata": {},
   "outputs": [],
   "source": []
  },
  {
   "cell_type": "markdown",
   "id": "b98fd8b5",
   "metadata": {},
   "source": [
    "Create an array of 10 ones"
   ]
  },
  {
   "cell_type": "code",
   "execution_count": null,
   "id": "b1b58502",
   "metadata": {},
   "outputs": [],
   "source": []
  },
  {
   "cell_type": "markdown",
   "id": "3a855be0",
   "metadata": {},
   "source": [
    "Create an array 10 six"
   ]
  },
  {
   "cell_type": "code",
   "execution_count": null,
   "id": "2404540e",
   "metadata": {},
   "outputs": [],
   "source": []
  },
  {
   "cell_type": "markdown",
   "id": "bf44838b",
   "metadata": {},
   "source": [
    "Create an array of integer from 10 to 70"
   ]
  },
  {
   "cell_type": "code",
   "execution_count": null,
   "id": "06d95e48",
   "metadata": {},
   "outputs": [],
   "source": []
  },
  {
   "cell_type": "markdown",
   "id": "22ca9b08",
   "metadata": {},
   "source": [
    "Create a 5x5 matrix with values ranging from 0 to 25"
   ]
  },
  {
   "cell_type": "code",
   "execution_count": null,
   "id": "084f7f65",
   "metadata": {},
   "outputs": [],
   "source": []
  },
  {
   "cell_type": "markdown",
   "id": "adfdc214",
   "metadata": {},
   "source": [
    "Create 3x3 identity matrix"
   ]
  },
  {
   "cell_type": "code",
   "execution_count": null,
   "id": "ecd972f1",
   "metadata": {},
   "outputs": [],
   "source": []
  },
  {
   "cell_type": "markdown",
   "id": "ac6881f4",
   "metadata": {},
   "source": [
    "Use numpy to generate a random number between 0 and 1"
   ]
  },
  {
   "cell_type": "code",
   "execution_count": null,
   "id": "4cbc10e4",
   "metadata": {},
   "outputs": [],
   "source": []
  },
  {
   "cell_type": "markdown",
   "id": "1d90684e",
   "metadata": {},
   "source": [
    "Use numpy to generate an array of 30 numbers sampled from a standard normal distribution"
   ]
  },
  {
   "cell_type": "code",
   "execution_count": null,
   "id": "3a36a683",
   "metadata": {},
   "outputs": [],
   "source": []
  },
  {
   "cell_type": "markdown",
   "id": "e90a2dd3",
   "metadata": {},
   "source": [
    "Create an array of 15 linearly spaced points between 0 and 1"
   ]
  },
  {
   "cell_type": "markdown",
   "id": "23db1232",
   "metadata": {},
   "source": [
    "# Numpy Indexing and Selection"
   ]
  },
  {
   "cell_type": "code",
   "execution_count": 6,
   "id": "8e881062",
   "metadata": {},
   "outputs": [
    {
     "data": {
      "text/plain": [
       "array([[ 1,  2,  3,  4,  5],\n",
       "       [ 6,  7,  8,  9, 10],\n",
       "       [11, 12, 13, 14, 15],\n",
       "       [16, 17, 18, 19, 20],\n",
       "       [21, 22, 23, 24, 25]])"
      ]
     },
     "execution_count": 6,
     "metadata": {},
     "output_type": "execute_result"
    }
   ],
   "source": [
    "#Run this cell for solving further questions\n",
    "input_mat = np.arange(1,26).reshape(5,5)\n",
    "input_mat"
   ]
  },
  {
   "cell_type": "code",
   "execution_count": null,
   "id": "69ed35d1",
   "metadata": {},
   "outputs": [],
   "source": [
    "#Write your code here to replicate the same output below\n"
   ]
  },
  {
   "cell_type": "code",
   "execution_count": 7,
   "id": "965a94b4",
   "metadata": {},
   "outputs": [
    {
     "data": {
      "text/plain": [
       "array([[12, 13, 14, 15],\n",
       "       [17, 18, 19, 20],\n",
       "       [22, 23, 24, 25]])"
      ]
     },
     "execution_count": 7,
     "metadata": {},
     "output_type": "execute_result"
    }
   ],
   "source": []
  },
  {
   "cell_type": "code",
   "execution_count": 10,
   "id": "fe6fc822",
   "metadata": {},
   "outputs": [],
   "source": [
    "#Write your code here to replicate the same output below"
   ]
  },
  {
   "cell_type": "code",
   "execution_count": 9,
   "id": "dc5ca187",
   "metadata": {},
   "outputs": [
    {
     "data": {
      "text/plain": [
       "20"
      ]
     },
     "execution_count": 9,
     "metadata": {},
     "output_type": "execute_result"
    }
   ],
   "source": []
  },
  {
   "cell_type": "code",
   "execution_count": null,
   "id": "5861fef7",
   "metadata": {},
   "outputs": [],
   "source": [
    "#Write your code here to replicate the same output below"
   ]
  },
  {
   "cell_type": "code",
   "execution_count": 11,
   "id": "9313f8d2",
   "metadata": {},
   "outputs": [
    {
     "data": {
      "text/plain": [
       "array([[ 2],\n",
       "       [ 7],\n",
       "       [12]])"
      ]
     },
     "execution_count": 11,
     "metadata": {},
     "output_type": "execute_result"
    }
   ],
   "source": []
  },
  {
   "cell_type": "code",
   "execution_count": 14,
   "id": "e11b3208",
   "metadata": {},
   "outputs": [],
   "source": [
    "#Write your code here to replicate the same output below"
   ]
  },
  {
   "cell_type": "code",
   "execution_count": 13,
   "id": "707584b3",
   "metadata": {},
   "outputs": [
    {
     "data": {
      "text/plain": [
       "array([21, 22, 23, 24, 25])"
      ]
     },
     "execution_count": 13,
     "metadata": {},
     "output_type": "execute_result"
    }
   ],
   "source": []
  },
  {
   "cell_type": "markdown",
   "id": "6575e002",
   "metadata": {},
   "source": [
    "Get the sum of all values in input_mat"
   ]
  },
  {
   "cell_type": "code",
   "execution_count": null,
   "id": "6ec59227",
   "metadata": {},
   "outputs": [],
   "source": []
  },
  {
   "cell_type": "markdown",
   "id": "25943631",
   "metadata": {},
   "source": [
    "Get the standard deviation of values in input_mat"
   ]
  },
  {
   "cell_type": "code",
   "execution_count": null,
   "id": "5d37366a",
   "metadata": {},
   "outputs": [],
   "source": []
  },
  {
   "cell_type": "markdown",
   "id": "b938ca75",
   "metadata": {},
   "source": [
    "Get the sum of all columns in input_mat"
   ]
  },
  {
   "cell_type": "code",
   "execution_count": null,
   "id": "07a631e5",
   "metadata": {},
   "outputs": [],
   "source": []
  },
  {
   "cell_type": "markdown",
   "id": "205742b2",
   "metadata": {},
   "source": [
    "Write a code in such a way that we get same random number each time we run the cell"
   ]
  },
  {
   "cell_type": "code",
   "execution_count": null,
   "id": "ec2386ca",
   "metadata": {},
   "outputs": [],
   "source": []
  }
 ],
 "metadata": {
  "kernelspec": {
   "display_name": "Python 3",
   "language": "python",
   "name": "python3"
  },
  "language_info": {
   "codemirror_mode": {
    "name": "ipython",
    "version": 3
   },
   "file_extension": ".py",
   "mimetype": "text/x-python",
   "name": "python",
   "nbconvert_exporter": "python",
   "pygments_lexer": "ipython3",
   "version": "3.8.8"
  }
 },
 "nbformat": 4,
 "nbformat_minor": 5
}
