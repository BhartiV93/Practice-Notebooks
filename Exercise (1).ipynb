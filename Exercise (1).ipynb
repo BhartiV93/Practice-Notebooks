{
 "cells": [
  {
   "cell_type": "markdown",
   "id": "58c4bb1c",
   "metadata": {},
   "source": [
    "# Exercise"
   ]
  },
  {
   "cell_type": "markdown",
   "id": "0802eeb1",
   "metadata": {},
   "source": [
    "** What is 8 to the power of 5?**"
   ]
  },
  {
   "cell_type": "code",
   "execution_count": null,
   "id": "7f9235f5",
   "metadata": {},
   "outputs": [],
   "source": [
    "#write your code"
   ]
  },
  {
   "cell_type": "code",
   "execution_count": 11,
   "id": "d178539f",
   "metadata": {},
   "outputs": [
    {
     "data": {
      "text/plain": [
       "32768"
      ]
     },
     "execution_count": 11,
     "metadata": {},
     "output_type": "execute_result"
    }
   ],
   "source": []
  },
  {
   "cell_type": "markdown",
   "id": "e01a4fda",
   "metadata": {},
   "source": [
    "** Split this string:**\n",
    "\n",
    "x = \"Hi there Anchal!\"\n",
    "\n",
    "     *into a list. * "
   ]
  },
  {
   "cell_type": "code",
   "execution_count": null,
   "id": "439799dc",
   "metadata": {},
   "outputs": [],
   "source": [
    "#write your code"
   ]
  },
  {
   "cell_type": "code",
   "execution_count": 13,
   "id": "b74ea1a3",
   "metadata": {
    "scrolled": true
   },
   "outputs": [
    {
     "data": {
      "text/plain": [
       "['Hi', 'there', 'Anchal!']"
      ]
     },
     "execution_count": 13,
     "metadata": {},
     "output_type": "execute_result"
    }
   ],
   "source": []
  },
  {
   "cell_type": "markdown",
   "id": "ae669c8a",
   "metadata": {},
   "source": [
    "** Given this nested list, use indexing to grab the word \"Edunet\" **"
   ]
  },
  {
   "cell_type": "code",
   "execution_count": 6,
   "id": "e64b19b8",
   "metadata": {},
   "outputs": [],
   "source": [
    "l1 = [1,2,[3,4],[5,[100,200,['Edunet']],23,11],1,7]"
   ]
  },
  {
   "cell_type": "code",
   "execution_count": null,
   "id": "7ddce97b",
   "metadata": {},
   "outputs": [],
   "source": [
    "#write your code"
   ]
  },
  {
   "cell_type": "code",
   "execution_count": 14,
   "id": "6929db1e",
   "metadata": {},
   "outputs": [
    {
     "data": {
      "text/plain": [
       "'Edunet'"
      ]
     },
     "execution_count": 14,
     "metadata": {},
     "output_type": "execute_result"
    }
   ],
   "source": []
  },
  {
   "cell_type": "markdown",
   "id": "1bdcee72",
   "metadata": {},
   "source": [
    "** Given this nested dictionary grab the word \"Edunet\". **"
   ]
  },
  {
   "cell_type": "code",
   "execution_count": 9,
   "id": "ba7972be",
   "metadata": {},
   "outputs": [],
   "source": [
    "d = {'k1':[1,2,3,{'track':['ai','cc','wd',{'partner':[1,2,3,'Edunet']}]}]}"
   ]
  },
  {
   "cell_type": "code",
   "execution_count": null,
   "id": "c0e0da0d",
   "metadata": {},
   "outputs": [],
   "source": [
    "#Write your code"
   ]
  },
  {
   "cell_type": "code",
   "execution_count": 15,
   "id": "22dc7e03",
   "metadata": {},
   "outputs": [
    {
     "data": {
      "text/plain": [
       "'Edunet'"
      ]
     },
     "execution_count": 15,
     "metadata": {},
     "output_type": "execute_result"
    }
   ],
   "source": []
  },
  {
   "cell_type": "markdown",
   "id": "8897a687",
   "metadata": {},
   "source": [
    "** Given the variables:**\n",
    "\n",
    "planet = \"Earth\"\n",
    "diameter = 12742\n",
    "** Use .format() to print the following string: **\n",
    "\n",
    "The diameter of Earth is 12742 kilometers."
   ]
  },
  {
   "cell_type": "code",
   "execution_count": null,
   "id": "d4d95c13",
   "metadata": {},
   "outputs": [],
   "source": [
    "#write your code"
   ]
  },
  {
   "cell_type": "code",
   "execution_count": 17,
   "id": "66219f35",
   "metadata": {
    "scrolled": true
   },
   "outputs": [
    {
     "name": "stdout",
     "output_type": "stream",
     "text": [
      "The diameter of Earth is 12742 kilometers.\n"
     ]
    }
   ],
   "source": []
  }
 ],
 "metadata": {
  "kernelspec": {
   "display_name": "Python 3",
   "language": "python",
   "name": "python3"
  },
  "language_info": {
   "codemirror_mode": {
    "name": "ipython",
    "version": 3
   },
   "file_extension": ".py",
   "mimetype": "text/x-python",
   "name": "python",
   "nbconvert_exporter": "python",
   "pygments_lexer": "ipython3",
   "version": "3.8.8"
  }
 },
 "nbformat": 4,
 "nbformat_minor": 5
}
